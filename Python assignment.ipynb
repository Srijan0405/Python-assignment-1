{
 "cells": [
  {
   "cell_type": "code",
   "execution_count": null,
   "id": "8dd71cc4-b2f2-435e-a9ff-fabf76d9e91c",
   "metadata": {},
   "outputs": [],
   "source": [
    "#second largest"
   ]
  },
  {
   "cell_type": "code",
   "execution_count": 6,
   "id": "a63bc528-dc1b-4076-b9d2-84e653f33e6b",
   "metadata": {},
   "outputs": [
    {
     "data": {
      "text/plain": [
       "34"
      ]
     },
     "execution_count": 6,
     "metadata": {},
     "output_type": "execute_result"
    }
   ],
   "source": [
    "def second_largest(lst):\n",
    "    m1 = m2 = float('-inf')\n",
    "    for n in lst:\n",
    "        if n > m1:\n",
    "            m2, m1 = m1, n\n",
    "        elif m1 > n > m2:\n",
    "            m2 = n\n",
    "    return m2 if m2 != float('-inf') else None\n",
    "lst = [12, 35, 1, 10, 34, 1]\n",
    "second_largest(lst)"
   ]
  },
  {
   "cell_type": "code",
   "execution_count": null,
   "id": "e9b86df2-5264-4a02-8f69-e48b0e20e723",
   "metadata": {},
   "outputs": [],
   "source": [
    "#duplicates from a list"
   ]
  },
  {
   "cell_type": "code",
   "execution_count": 8,
   "id": "15041532-bee2-4c09-8261-6e0ed13bc608",
   "metadata": {},
   "outputs": [],
   "source": [
    "lst = [5, 2, 2, 8, 1, 5]"
   ]
  },
  {
   "cell_type": "code",
   "execution_count": 9,
   "id": "5977a34c-24b5-4e75-b96c-803e2882fb74",
   "metadata": {},
   "outputs": [],
   "source": [
    "unique_sorted = sorted({x: None for x in lst})"
   ]
  },
  {
   "cell_type": "code",
   "execution_count": 14,
   "id": "e00e4eda-6e30-46c6-91dc-4e94ae36d261",
   "metadata": {},
   "outputs": [
    {
     "name": "stdout",
     "output_type": "stream",
     "text": [
      "[1, 2, 5, 8]\n"
     ]
    }
   ],
   "source": [
    "print(unique_sorted)"
   ]
  },
  {
   "cell_type": "code",
   "execution_count": null,
   "id": "afaa04ce-f94b-40ca-9d05-9f3eecea503e",
   "metadata": {},
   "outputs": [],
   "source": [
    "#Find sum and average"
   ]
  },
  {
   "cell_type": "code",
   "execution_count": 15,
   "id": "782d1995-a4d9-4b8c-a5de-788dabf72a69",
   "metadata": {},
   "outputs": [],
   "source": [
    "nums = [1, 2, 3, 4, 5]"
   ]
  },
  {
   "cell_type": "code",
   "execution_count": 16,
   "id": "c09bbf8e-43cf-4ab3-b8ac-b57e91f82b4c",
   "metadata": {},
   "outputs": [],
   "source": [
    "s, a = sum(nums), sum(nums)/len(nums)"
   ]
  },
  {
   "cell_type": "code",
   "execution_count": 17,
   "id": "a195396c-6a5a-4ce3-9956-c34d903b75e5",
   "metadata": {},
   "outputs": [
    {
     "data": {
      "text/plain": [
       "(15, 3.0)"
      ]
     },
     "execution_count": 17,
     "metadata": {},
     "output_type": "execute_result"
    }
   ],
   "source": [
    "s, a"
   ]
  },
  {
   "cell_type": "code",
   "execution_count": 24,
   "id": "50db23a2-cb1b-4990-82df-849f3e514bb2",
   "metadata": {},
   "outputs": [],
   "source": [
    "#Create a program to check if a number is prime.\n",
    "n=29"
   ]
  },
  {
   "cell_type": "code",
   "execution_count": 26,
   "id": "e40f224a-d682-4fee-b268-b5f14a46c338",
   "metadata": {},
   "outputs": [
    {
     "name": "stdout",
     "output_type": "stream",
     "text": [
      "True\n"
     ]
    }
   ],
   "source": [
    "#gives answer in true or false\n",
    "print(all(n%i for i in range(2,int(n**.5)+1)) and n>1)"
   ]
  },
  {
   "cell_type": "code",
   "execution_count": 36,
   "id": "23347b29-6c08-4bfc-8f9b-06ae07eab13a",
   "metadata": {},
   "outputs": [],
   "source": [
    "#Count the number of vowels, consonants, digits, and special\n",
    "characters in a given string\n",
    "def count_chars(s):\n",
    "    v = c = d = sym = 0\n",
    "    for ch in s.lower():\n",
    "        if ch.isdigit():\n",
    "            d += 1\n",
    "        elif ch.isalpha():\n",
    "            if ch in 'aeiou':\n",
    "                v += 1\n",
    "            else:\n",
    "                c += 1\n",
    "        else:\n",
    "            sym += 1\n",
    "    return v, c, d, sym\n",
    "\n",
    "s = \"Hello, World! 123\"\n",
    "\n"
   ]
  },
  {
   "cell_type": "code",
   "execution_count": 37,
   "id": "8036e0f5-1162-4f78-8ea7-758d8e5b27c7",
   "metadata": {},
   "outputs": [
    {
     "name": "stdout",
     "output_type": "stream",
     "text": [
      "(3, 7, 3, 4)\n"
     ]
    }
   ],
   "source": [
    "print(count_chars(s))"
   ]
  },
  {
   "cell_type": "code",
   "execution_count": 38,
   "id": "22e43c45-c760-4c34-8f5d-2fe58781a076",
   "metadata": {},
   "outputs": [
    {
     "name": "stdout",
     "output_type": "stream",
     "text": [
      "2\n",
      "4\n",
      "6\n",
      "8\n",
      "10\n",
      "12\n",
      "14\n",
      "16\n",
      "18\n",
      "20\n",
      "22\n",
      "24\n",
      "26\n",
      "28\n",
      "30\n",
      "32\n",
      "34\n",
      "36\n",
      "38\n",
      "40\n",
      "42\n",
      "44\n",
      "46\n",
      "48\n",
      "50\n",
      "52\n",
      "54\n",
      "56\n",
      "58\n",
      "60\n",
      "62\n",
      "64\n",
      "66\n",
      "68\n",
      "70\n",
      "72\n",
      "74\n",
      "76\n",
      "78\n",
      "80\n",
      "82\n",
      "84\n",
      "86\n",
      "88\n",
      "90\n",
      "92\n",
      "94\n",
      "96\n",
      "98\n",
      "100\n"
     ]
    }
   ],
   "source": [
    "#Print all even numbers between 1 and 100 using a for loop.\n",
    "for i in range(2, 101, 2):\n",
    "    print(i)"
   ]
  },
  {
   "cell_type": "code",
   "execution_count": 39,
   "id": "70919747-20f0-4468-bbc2-f053be2e891b",
   "metadata": {},
   "outputs": [
    {
     "name": "stdin",
     "output_type": "stream",
     "text": [
      "Enter a number:  2\n"
     ]
    },
    {
     "name": "stdout",
     "output_type": "stream",
     "text": [
      "2 x 1 = 2\n",
      "2 x 2 = 4\n",
      "2 x 3 = 6\n",
      "2 x 4 = 8\n",
      "2 x 5 = 10\n",
      "2 x 6 = 12\n",
      "2 x 7 = 14\n",
      "2 x 8 = 16\n",
      "2 x 9 = 18\n",
      "2 x 10 = 20\n"
     ]
    }
   ],
   "source": [
    "#Write a program to print the multiplication table of a number entered by the user.\n",
    "n = int(input(\"Enter a number: \"))\n",
    "for i in range(1, 11):\n",
    "    print(f\"{n} x {i} = {n * i}\")\n"
   ]
  },
  {
   "cell_type": "code",
   "execution_count": 40,
   "id": "2e790541-1d5a-4f9e-97a8-6d7afe036adc",
   "metadata": {},
   "outputs": [
    {
     "name": "stdout",
     "output_type": "stream",
     "text": [
      "[15, 30, 45, 60, 75, 90]\n"
     ]
    }
   ],
   "source": [
    "#Create a list of numbers from 1 to 100 that are divisible by both 3 and 5.\n",
    "numbers = [i for i in range(1, 101) if i % 3 == 0 and i % 5 == 0]\n",
    "print(numbers)"
   ]
  },
  {
   "cell_type": "code",
   "execution_count": 42,
   "id": "f1cecc7e-40d1-49e1-a7fe-fe2597808809",
   "metadata": {},
   "outputs": [
    {
     "name": "stdin",
     "output_type": "stream",
     "text": [
      "Enter a number:  1234\n"
     ]
    },
    {
     "name": "stdout",
     "output_type": "stream",
     "text": [
      "Reversed number: 4321\n"
     ]
    }
   ],
   "source": [
    "#Take a number input and print its reverse\n",
    "n = int(input(\"Enter a number: \"))\n",
    "rev = int(str(n)[::-1])\n",
    "print(\"Reversed number:\", rev)"
   ]
  },
  {
   "cell_type": "code",
   "execution_count": 43,
   "id": "e455558a-f191-467f-b493-f6128d3f64aa",
   "metadata": {},
   "outputs": [
    {
     "name": "stdin",
     "output_type": "stream",
     "text": [
      "Enter a string:  hello\n"
     ]
    },
    {
     "name": "stdout",
     "output_type": "stream",
     "text": [
      "{'h': 1, 'e': 1, 'l': 2, 'o': 1}\n"
     ]
    }
   ],
   "source": [
    "#Count the frequency of each character in a string and store it in a dictionary.\n",
    "s = input(\"Enter a string: \")\n",
    "freq = {}\n",
    "for ch in s:\n",
    "    freq[ch] = freq.get(ch, 0) + 1\n",
    "print(freq)\n"
   ]
  },
  {
   "cell_type": "code",
   "execution_count": 44,
   "id": "23fc3d9a-0f35-4caf-9b31-3dcc7e631b29",
   "metadata": {},
   "outputs": [
    {
     "name": "stdin",
     "output_type": "stream",
     "text": [
      " 20\n"
     ]
    },
    {
     "name": "stdout",
     "output_type": "stream",
     "text": [
      "[2, 3, 5, 7, 11, 13, 17, 19, 23, 29, 31, 37, 41, 43, 47, 53, 59, 61, 67, 71]\n"
     ]
    }
   ],
   "source": [
    "#Write a Python program to generate the first n prime numbers\n",
    "n = int(input())\n",
    "p, x = [], 2\n",
    "while len(p) < n:\n",
    "    if all(x % i for i in range(2, int(x**0.5)+1)): p.append(x)\n",
    "    x += 1\n",
    "print(p)\n"
   ]
  },
  {
   "cell_type": "code",
   "execution_count": 45,
   "id": "80285500-00ba-4590-b80d-5e4d884d6808",
   "metadata": {},
   "outputs": [
    {
     "name": "stdin",
     "output_type": "stream",
     "text": [
      "Enter a number:  121\n"
     ]
    },
    {
     "name": "stdout",
     "output_type": "stream",
     "text": [
      "Palindrome\n"
     ]
    }
   ],
   "source": [
    "#Check whether a number is a palindrome or not\n",
    "n = input(\"Enter a number: \")\n",
    "print(\"Palindrome\" if n == n[::-1] else \"Not a palindrome\")"
   ]
  },
  {
   "cell_type": "code",
   "execution_count": 51,
   "id": "ad1b2e59-0594-4114-99b4-da7c47a81c88",
   "metadata": {},
   "outputs": [
    {
     "name": "stdout",
     "output_type": "stream",
     "text": [
      "3\n"
     ]
    }
   ],
   "source": [
    "#Count how many times a specific element appears in a list\n",
    "print([1, 2, 3, 2, 4, 2].count(2))"
   ]
  },
  {
   "cell_type": "code",
   "execution_count": 52,
   "id": "17040447-c1a4-45d2-b5db-fd7c344f17a5",
   "metadata": {},
   "outputs": [
    {
     "name": "stdout",
     "output_type": "stream",
     "text": [
      "[4, 16, 36, 64, 100, 144, 196, 256, 324, 400, 484, 576, 676, 784, 900, 1024, 1156, 1296, 1444, 1600, 1764, 1936, 2116, 2304, 2500]\n"
     ]
    }
   ],
   "source": [
    "#Create a list of squares of even numbers between 1 and\n",
    "50.\n",
    "print([x*x for x in range(2, 51, 2)])\n",
    "\n"
   ]
  },
  {
   "cell_type": "code",
   "execution_count": 53,
   "id": "268ca2f4-5cc3-4faa-9aa8-3922664a86ad",
   "metadata": {},
   "outputs": [
    {
     "name": "stdout",
     "output_type": "stream",
     "text": [
      "[1, 2, 3, 4, 5]\n"
     ]
    }
   ],
   "source": [
    "#Accept a list and return a new list with only unique elements (preserve order).\n",
    "def uniq(l): return list(dict.fromkeys(l))\n",
    "print(uniq([1,2,2,3,4,3,5,1]))\n"
   ]
  },
  {
   "cell_type": "code",
   "execution_count": 60,
   "id": "a20a2aef-0530-4d4f-8267-73a871d3af2d",
   "metadata": {},
   "outputs": [
    {
     "name": "stdout",
     "output_type": "stream",
     "text": [
      "Odd\n"
     ]
    }
   ],
   "source": [
    "#Write a function to check if a number is even or odd.\n",
    "def even_odd(n):\n",
    "    return [\"Odd\", \"Even\"][n % 2 == 0]\n",
    "print(even_odd(7))"
   ]
  },
  {
   "cell_type": "code",
   "execution_count": 63,
   "id": "1fb02e87-04e5-4d79-88ae-f7f7736e8b49",
   "metadata": {},
   "outputs": [
    {
     "name": "stdout",
     "output_type": "stream",
     "text": [
      "[1, 3, 6, 10]\n"
     ]
    }
   ],
   "source": [
    "#Create a function that takes a list of numbers and returns their cumulative sum.\n",
    "def cum_sum(lst):\n",
    "    from itertools import accumulate\n",
    "    return list(accumulate(lst))\n",
    "print(cum_sum([1, 2, 3, 4]))  "
   ]
  },
  {
   "cell_type": "code",
   "execution_count": 64,
   "id": "dc0c9666-2f92-40f6-9f3d-2252575e2f01",
   "metadata": {},
   "outputs": [
    {
     "name": "stdout",
     "output_type": "stream",
     "text": [
      "120\n"
     ]
    }
   ],
   "source": [
    "#Write a recursive function to find the factorial of a number.\n",
    "def fact(n):\n",
    "    return 1 if n == 0 else n * fact(n - 1)\n",
    "print(fact(5))"
   ]
  },
  {
   "cell_type": "code",
   "execution_count": 67,
   "id": "2832e2a3-7ccc-4aa0-9c58-f773fb039954",
   "metadata": {},
   "outputs": [
    {
     "name": "stdout",
     "output_type": "stream",
     "text": [
      "0 1 1 2 3 5 8 13 21 34 "
     ]
    }
   ],
   "source": [
    "#Write a function to print the Fibonacci series up to n terms.\n",
    "def fibonacci_series(n):\n",
    "    a, b = 0, 1\n",
    "    for i in range(n):\n",
    "        print(a, end=' ')\n",
    "        a, b = b, a + b\n",
    "fibonacci_series(10)\n"
   ]
  },
  {
   "cell_type": "code",
   "execution_count": 68,
   "id": "17df2adb-1be2-4c67-9971-b09681610faf",
   "metadata": {},
   "outputs": [
    {
     "name": "stdout",
     "output_type": "stream",
     "text": [
      "True\n",
      "False\n",
      "True\n"
     ]
    }
   ],
   "source": [
    "#Define a function that checks if a given string is a palindrome.\n",
    "def is_palindrome(s):\n",
    "    s = s.replace(\" \", \"\").lower()\n",
    "    return s == s[::-1]\n",
    "\n",
    "\n",
    "print(is_palindrome(\"radar\"))      \n",
    "print(is_palindrome(\"hello\"))      \n",
    "print(is_palindrome(\"Race car\"))   "
   ]
  },
  {
   "cell_type": "code",
   "execution_count": 69,
   "id": "019e7b04-6313-4319-9c71-c37b29353a10",
   "metadata": {},
   "outputs": [
    {
     "name": "stdout",
     "output_type": "stream",
     "text": [
      "Maximum: 9\n",
      "Minimum: 2\n"
     ]
    }
   ],
   "source": [
    "#Create a function that returns the maximum and minimum elements from a list.\n",
    "def find_max_min(lst):\n",
    "    if not lst:\n",
    "        return None, None  \n",
    "    return max(lst), min(lst)\n",
    "\n",
    "numbers = [3, 7, 2, 9, 4]\n",
    "maximum, minimum = find_max_min(numbers)\n",
    "print(\"Maximum:\", maximum)\n",
    "print(\"Minimum:\", minimum)\n"
   ]
  },
  {
   "cell_type": "code",
   "execution_count": 70,
   "id": "a3252cc7-d2c1-42df-b0da-0bd156748aff",
   "metadata": {},
   "outputs": [
    {
     "name": "stdout",
     "output_type": "stream",
     "text": [
      "True\n",
      "False\n"
     ]
    }
   ],
   "source": [
    "#Write a function to check whether a string is a pangram.\n",
    "import string\n",
    "\n",
    "def is_pangram(s):\n",
    "    alphabet = set(string.ascii_lowercase)\n",
    "    cleaned = set(s.lower())\n",
    "    return alphabet.issubset(cleaned)\n",
    "\n",
    "print(is_pangram(\"The quick brown fox jumps over the lazy dog\"))  # True\n",
    "print(is_pangram(\"Hello world\"))                                   # False\n"
   ]
  },
  {
   "cell_type": "code",
   "execution_count": 71,
   "id": "4224a9d3-f2b0-4a72-b6e7-b5129452ebd2",
   "metadata": {},
   "outputs": [
    {
     "name": "stdout",
     "output_type": "stream",
     "text": [
      "[11, 13, 17, 19, 23, 29, 31, 37, 41, 43, 47]\n"
     ]
    }
   ],
   "source": [
    "#Create a function that finds and returns all prime numbers in a given range.\n",
    "def find_primes(start, end):\n",
    "    primes = []\n",
    "    for num in range(start, end + 1):\n",
    "        if num > 1:\n",
    "            for i in range(2, int(num**0.5) + 1):\n",
    "                if num % i == 0:\n",
    "                    break\n",
    "            else:\n",
    "                primes.append(num)\n",
    "    return primes\n",
    "\n",
    "print(find_primes(10, 50))\n"
   ]
  },
  {
   "cell_type": "code",
   "execution_count": 72,
   "id": "7ef19594-8d03-4a82-86b4-f998f4d972b3",
   "metadata": {},
   "outputs": [
    {
     "name": "stdout",
     "output_type": "stream",
     "text": [
      "Uppercase letters: 6\n",
      "Lowercase letters: 15\n"
     ]
    }
   ],
   "source": [
    "#Write a function to return the number of uppercase and lowercase letters in a string.\n",
    "def count_case(s):\n",
    "    upper_count = 0\n",
    "    lower_count = 0\n",
    "    for char in s:\n",
    "        if char.isupper():\n",
    "            upper_count += 1\n",
    "        elif char.islower():\n",
    "            lower_count += 1\n",
    "    return upper_count, lower_count  \n",
    "    \n",
    "text = \"Hello World! Python is FUN.\"\n",
    "upper, lower = count_case(text)\n",
    "print(\"Uppercase letters:\", upper)\n",
    "print(\"Lowercase letters:\", lower)\n"
   ]
  },
  {
   "cell_type": "code",
   "execution_count": 74,
   "id": "829a2818-f82b-4b94-8488-79a67d8ccb85",
   "metadata": {},
   "outputs": [
    {
     "name": "stdout",
     "output_type": "stream",
     "text": [
      "10\n",
      "18\n"
     ]
    }
   ],
   "source": [
    "#Write a function to compute the sum of digits of a number.\n",
    "def sum_of_digits(n):\n",
    "    n = abs(n)  \n",
    "    total = 0\n",
    "    while n > 0:\n",
    "        total += n % 10\n",
    "        n //= 10\n",
    "    return total\n",
    "\n",
    "print(sum_of_digits(1234))   \n",
    "print(sum_of_digits(-567))   \n"
   ]
  },
  {
   "cell_type": "code",
   "execution_count": 75,
   "id": "e2ec6065-cb88-4024-ba6f-05ef54be0939",
   "metadata": {},
   "outputs": [
    {
     "name": "stdout",
     "output_type": "stream",
     "text": [
      "Word count: 6\n"
     ]
    }
   ],
   "source": [
    "#Write a function to count words in a sentence.\n",
    "def count_words(sentence):\n",
    "    words = sentence.split()\n",
    "    return len(words)\n",
    "\n",
    "\n",
    "text = \"Python is a powerful programming language.\"\n",
    "print(\"Word count:\", count_words(text))\n"
   ]
  },
  {
   "cell_type": "code",
   "execution_count": 77,
   "id": "c037a846-c867-4d47-a156-e1f7516b381e",
   "metadata": {},
   "outputs": [
    {
     "name": "stdout",
     "output_type": "stream",
     "text": [
      "Hello world Hows everything going\n"
     ]
    }
   ],
   "source": [
    "#Create a function to remove all punctuation from a string.\n",
    "import string\n",
    "\n",
    "def remove_punctuation(text):\n",
    "    return ''.join(char for char in text if char not in string.punctuation)\n",
    "\n",
    "text = \"Hello, world! How's everything going?\"\n",
    "cleaned_text = remove_punctuation(text)\n",
    "print(cleaned_text)"
   ]
  },
  {
   "cell_type": "code",
   "execution_count": 78,
   "id": "fd97900a-2968-4711-9e46-f417bf45b468",
   "metadata": {},
   "outputs": [
    {
     "name": "stdout",
     "output_type": "stream",
     "text": [
      "6\n",
      "25\n"
     ]
    }
   ],
   "source": [
    "#Create a function that finds the GCD (greatest common divisor) of two numbers.\n",
    "def find_gcd(a, b):\n",
    "    while b != 0:\n",
    "        a, b = b, a % b\n",
    "    return a\n",
    "\n",
    "print(find_gcd(48, 18))  \n",
    "print(find_gcd(100, 25))\n"
   ]
  },
  {
   "cell_type": "code",
   "execution_count": 79,
   "id": "7c23c817-d220-46f9-88bd-41b32aff933a",
   "metadata": {},
   "outputs": [
    {
     "name": "stdout",
     "output_type": "stream",
     "text": [
      "[1, 2, 3]\n"
     ]
    }
   ],
   "source": [
    "#Write a function that takes a list and returns only those elements that appear more than once.\n",
    "def find_duplicates(lst):\n",
    "    seen = set()\n",
    "    duplicates = set()\n",
    "    for item in lst:\n",
    "        if item in seen:\n",
    "            duplicates.add(item)\n",
    "        else:\n",
    "            seen.add(item)\n",
    "    return list(duplicates)\n",
    "\n",
    "numbers = [1, 2, 3, 2, 4, 5, 1, 6, 7, 3]\n",
    "print(find_duplicates(numbers))"
   ]
  },
  {
   "cell_type": "code",
   "execution_count": 81,
   "id": "096f89c3-4e3a-4745-93b0-401866d3f62d",
   "metadata": {},
   "outputs": [
    {
     "name": "stdout",
     "output_type": "stream",
     "text": [
      "25\n"
     ]
    }
   ],
   "source": [
    "#Create a function to return the largest of three numbers.\n",
    "def find_largest(a, b, c):\n",
    "    return max(a, b, c)\n",
    "\n",
    "print(find_largest(10, 25, 15))"
   ]
  },
  {
   "cell_type": "code",
   "execution_count": 83,
   "id": "efe7a528-aae2-4dd6-bc39-8bb2bd60597c",
   "metadata": {},
   "outputs": [
    {
     "name": "stdout",
     "output_type": "stream",
     "text": [
      "Python a and easy is language learn powerful to\n"
     ]
    }
   ],
   "source": [
    "#Write a program to sort words in a sentence alphabetically\n",
    "def sort_words(sentence):\n",
    "    words = sentence.split()\n",
    "    sorted_words = sorted(words)\n",
    "    return ' '.join(sorted_words)\n",
    "\n",
    "sentence = \"Python is a powerful and easy to learn language\"\n",
    "result = sort_words(sentence)\n",
    "print(result)"
   ]
  },
  {
   "cell_type": "code",
   "execution_count": 84,
   "id": "edf60022-1b90-45b1-8e75-806a6755058a",
   "metadata": {},
   "outputs": [
    {
     "name": "stdout",
     "output_type": "stream",
     "text": [
      "{'a': 1, 'b': 2, 'c': 3, 'd': 4}\n"
     ]
    }
   ],
   "source": [
    "#Concatenate two dictionaries and print the result.\n",
    "def concatenate_dicts(dict1, dict2):\n",
    "    result = dict1.copy()\n",
    "    result.update(dict2)\n",
    "    return result\n",
    "\n",
    "dict1 = {'a': 1, 'b': 2}\n",
    "dict2 = {'c': 3, 'd': 4}\n",
    "\n",
    "combined = concatenate_dicts(dict1, dict2)\n",
    "print(combined)"
   ]
  },
  {
   "cell_type": "code",
   "execution_count": 85,
   "id": "ac668d8c-0cc4-4a84-8c09-1c6c7f5f39f0",
   "metadata": {},
   "outputs": [
    {
     "name": "stdout",
     "output_type": "stream",
     "text": [
      "Python: 1\n",
      "is: 1\n",
      "a: 1\n",
      "powerful: 3\n",
      "and: 1\n",
      "easy: 2\n",
      "to: 1\n",
      "learn: 2\n",
      "language: 4\n"
     ]
    }
   ],
   "source": [
    "#Count how many vowels are present in each word of a sentence.\n",
    "def count_vowels_in_words(sentence):\n",
    "    vowels = \"aeiouAEIOU\"\n",
    "    words = sentence.split()\n",
    "    result = {}\n",
    "    for word in words:\n",
    "        count = sum(1 for char in word if char in vowels)\n",
    "        result[word] = count\n",
    "    return result\n",
    "\n",
    "vowel_counts = count_vowels_in_words(sentence)\n",
    "\n",
    "for word, count in vowel_counts.items():\n",
    "    print(f\"{word}: {count}\")"
   ]
  },
  {
   "cell_type": "code",
   "execution_count": 86,
   "id": "dd0eb1f7-90fa-4983-9e43-35b1134a4339",
   "metadata": {},
   "outputs": [
    {
     "name": "stdout",
     "output_type": "stream",
     "text": [
      "[1, 2, 3, 4, 5]\n"
     ]
    }
   ],
   "source": [
    "#Accept a tuple and convert it into a list.\n",
    "def tuple_to_list(tup):\n",
    "    return list(tup)\n",
    "\n",
    "my_tuple = (1, 2, 3, 4, 5)\n",
    "converted_list = tuple_to_list(my_tuple)\n",
    "print(converted_list)"
   ]
  },
  {
   "cell_type": "code",
   "execution_count": 87,
   "id": "03f72dab-01f0-4e9b-8a3e-6c7396ddc417",
   "metadata": {},
   "outputs": [
    {
     "name": "stdout",
     "output_type": "stream",
     "text": [
      "Pythonisawesome!\n"
     ]
    }
   ],
   "source": [
    "#Remove all whitespace from a given string using a function.\n",
    "def remove_whitespace(text):\n",
    "    return ''.join(text.split())\n",
    "\n",
    "s = \"  Python   is \\n awesome\\t!  \"\n",
    "cleaned = remove_whitespace(s)\n",
    "print(cleaned)"
   ]
  },
  {
   "cell_type": "code",
   "execution_count": 88,
   "id": "5d3b4879-5521-4265-aa9d-8e3b09ca1d9a",
   "metadata": {},
   "outputs": [
    {
     "name": "stdout",
     "output_type": "stream",
     "text": [
      "{'name': 'Alice', 'age': 25, 'city': 'New York'}\n"
     ]
    }
   ],
   "source": [
    "#Merge two lists into a dictionary using one as keys and the other as values.\n",
    "def merge_lists_to_dict(keys, values):\n",
    "    return dict(zip(keys, values))\n",
    "\n",
    "keys = ['name', 'age', 'city']\n",
    "values = ['Alice', 25, 'New York']\n",
    "\n",
    "merged = merge_lists_to_dict(keys, values)\n",
    "print(merged)"
   ]
  },
  {
   "cell_type": "code",
   "execution_count": 89,
   "id": "9a8380ff-3f71-4108-9f55-13c305285bbb",
   "metadata": {},
   "outputs": [
    {
     "name": "stdout",
     "output_type": "stream",
     "text": [
      "Key with maximum value: b\n"
     ]
    }
   ],
   "source": [
    "#Write a program to get the key with the maximum value in a dictionary.\n",
    "def get_key_with_max_value(d):\n",
    "    return max(d, key=d.get)\n",
    "\n",
    "my_dict = {'a': 10, 'b': 25, 'c': 5}\n",
    "max_key = get_key_with_max_value(my_dict)\n",
    "print(\"Key with maximum value:\", max_key)\n"
   ]
  },
  {
   "cell_type": "code",
   "execution_count": 90,
   "id": "95f21d02-4d66-451f-91ae-8043d3159458",
   "metadata": {},
   "outputs": [
    {
     "name": "stdin",
     "output_type": "stream",
     "text": [
      "Enter a sentence:  I am srijan\n"
     ]
    },
    {
     "name": "stdout",
     "output_type": "stream",
     "text": [
      "Word Frequencies: {'i': 1, 'am': 1, 'srijan': 1}\n"
     ]
    }
   ],
   "source": [
    "#Accept a string and print a dictionary with word frequencies.\n",
    "def word_frequencies(text):\n",
    "    words = text.split()\n",
    "    freq_dict = {}\n",
    "    for word in words:\n",
    "        word = word.lower()  \n",
    "        freq_dict[word] = freq_dict.get(word, 0) + 1\n",
    "    return freq_dict\n",
    "\n",
    "user_input = input(\"Enter a sentence: \")\n",
    "frequencies = word_frequencies(user_input)\n",
    "print(\"Word Frequencies:\", frequencies)"
   ]
  },
  {
   "cell_type": "code",
   "execution_count": 96,
   "id": "1442d862-033a-4fb7-9955-4ca1c0480a2c",
   "metadata": {},
   "outputs": [
    {
     "name": "stdin",
     "output_type": "stream",
     "text": [
      "Enter the key to check:  age\n"
     ]
    },
    {
     "name": "stdout",
     "output_type": "stream",
     "text": [
      "Yes, the key 'age' exists in the dictionary.\n"
     ]
    }
   ],
   "source": [
    "#Write a program to check if a key exists in a dictionary.\n",
    "def key_exists(d, key):\n",
    "    return key in d\n",
    "\n",
    "my_dict = {'name': 'Alice', 'age': 25, 'city': 'New York'}\n",
    "key_to_check = input(\"Enter the key to check: \")\n",
    "\n",
    "if key_exists(my_dict, key_to_check):\n",
    "    print(f\"Yes, the key '{key_to_check}' exists in the dictionary.\")\n",
    "else:\n",
    "    print(f\"No, the key '{key_to_check}' does not exist in the dictionary.\")\n",
    "\n",
    "\n"
   ]
  },
  {
   "cell_type": "code",
   "execution_count": 98,
   "id": "1c8fa41a-0e41-41fc-9246-62d0df6e13d6",
   "metadata": {},
   "outputs": [
    {
     "name": "stdin",
     "output_type": "stream",
     "text": [
      "Enter a string:  age\n"
     ]
    },
    {
     "name": "stdout",
     "output_type": "stream",
     "text": [
      "Result: *g*\n"
     ]
    }
   ],
   "source": [
    "#Write a program to replace all the vowels in a string with  '*'.\n",
    "def replace_vowels(text):\n",
    "    vowels = \"aeiouAEIOU\"\n",
    "    result = ''\n",
    "    for char in text:\n",
    "        if char in vowels:\n",
    "            result += '*'\n",
    "        else:\n",
    "            result += char\n",
    "    return result\n",
    "\n",
    "input_text = input(\"Enter a string: \")\n",
    "output = replace_vowels(input_text)\n",
    "print(\"Result:\", output)\n"
   ]
  },
  {
   "cell_type": "code",
   "execution_count": 99,
   "id": "4287f7e5-76a6-487c-bbfb-ca002872d023",
   "metadata": {},
   "outputs": [
    {
     "name": "stdin",
     "output_type": "stream",
     "text": [
      "Enter the filename:  srijan\n"
     ]
    },
    {
     "name": "stdout",
     "output_type": "stream",
     "text": [
      "Error: The file 'srijan' was not found.\n"
     ]
    }
   ],
   "source": [
    "#Write a Python program to read the contents of a file and display it\n",
    "def read_file(filename):\n",
    "    try:\n",
    "        with open(filename, 'r') as file:\n",
    "            contents = file.read()\n",
    "            print(\"File Contents:\\n\")\n",
    "            print(contents)\n",
    "    except FileNotFoundError:\n",
    "        print(f\"Error: The file '{filename}' was not found.\")\n",
    "\n",
    "filename = input(\"Enter the filename: \")\n",
    "read_file(filename)\n"
   ]
  },
  {
   "cell_type": "code",
   "execution_count": 100,
   "id": "55d78dde-f664-44d5-b55e-e4c1580c20b5",
   "metadata": {},
   "outputs": [
    {
     "name": "stdin",
     "output_type": "stream",
     "text": [
      "Enter the filename:  download\n"
     ]
    },
    {
     "name": "stdout",
     "output_type": "stream",
     "text": [
      "Error: The file 'download' was not found.\n",
      "Total number of words: 0\n"
     ]
    }
   ],
   "source": [
    "#Count the number of words in a file\n",
    "def count_words_in_file(filename):\n",
    "    try:\n",
    "        with open(filename, 'r') as file:\n",
    "            contents = file.read()\n",
    "            words = contents.split()\n",
    "            return len(words)\n",
    "    except FileNotFoundError:\n",
    "        print(f\"Error: The file '{filename}' was not found.\")\n",
    "        return 0\n",
    "\n",
    "filename = input(\"Enter the filename: \")\n",
    "word_count = count_words_in_file(filename)\n",
    "print(f\"Total number of words: {word_count}\")\n"
   ]
  },
  {
   "cell_type": "code",
   "execution_count": 101,
   "id": "b41a940c-d903-4a89-a774-c365124e1a3f",
   "metadata": {},
   "outputs": [
    {
     "name": "stdin",
     "output_type": "stream",
     "text": [
      "Enter the source file name:  Srijan\n",
      "Enter the destination file name:  srijan 1\n"
     ]
    },
    {
     "name": "stdout",
     "output_type": "stream",
     "text": [
      "Error: The file 'Srijan' was not found.\n"
     ]
    }
   ],
   "source": [
    "#Copy contents of one file to another.\n",
    "def copy_file(source_file, destination_file):\n",
    "    try:\n",
    "        with open(source_file, 'r') as src:\n",
    "            content = src.read()\n",
    "        with open(destination_file, 'w') as dest:\n",
    "            dest.write(content)\n",
    "        print(f\"Contents copied from '{source_file}' to '{destination_file}' successfully.\")\n",
    "    except FileNotFoundError:\n",
    "        print(f\"Error: The file '{source_file}' was not found.\")\n",
    "\n",
    "source = input(\"Enter the source file name: \")\n",
    "destination = input(\"Enter the destination file name: \")\n",
    "copy_file(source, destination)\n"
   ]
  },
  {
   "cell_type": "code",
   "execution_count": 102,
   "id": "ed2b28fb-ffb7-4096-9e29-193893055cdd",
   "metadata": {},
   "outputs": [
    {
     "name": "stdin",
     "output_type": "stream",
     "text": [
      "Enter the filename:  Srijan\n"
     ]
    },
    {
     "name": "stdout",
     "output_type": "stream",
     "text": [
      "Error: The file 'Srijan' was not found.\n"
     ]
    }
   ],
   "source": [
    "#Print only the lines that have more than 50 characters from a text file.\n",
    "def print_long_lines(filename):\n",
    "    try:\n",
    "        with open(filename, 'r') as file:\n",
    "            print(f\"Lines with more than 50 characters in '{filename}':\\n\")\n",
    "            for line in file:\n",
    "                if len(line.strip()) > 50:\n",
    "                    print(line.strip())\n",
    "    except FileNotFoundError:\n",
    "        print(f\"Error: The file '{filename}' was not found.\")\n",
    "\n",
    "filename = input(\"Enter the filename: \")\n",
    "print_long_lines(filename)\n"
   ]
  },
  {
   "cell_type": "code",
   "execution_count": 103,
   "id": "0ea6f3c4-91f1-4e79-b29a-fa527167bdd7",
   "metadata": {},
   "outputs": [
    {
     "name": "stdout",
     "output_type": "stream",
     "text": [
      "List written to 'output.txt' successfully.\n"
     ]
    }
   ],
   "source": [
    "#Write a program to write a list of strings into a text file (one string per line).\n",
    "def write_list_to_file(filename, string_list):\n",
    "    try:\n",
    "        with open(filename, 'w') as file:\n",
    "            for item in string_list:\n",
    "                file.write(item + '\\n')\n",
    "        print(f\"List written to '{filename}' successfully.\")\n",
    "    except Exception as e:\n",
    "        print(f\"An error occurred: {e}\")\n",
    "\n",
    "lines = [\"Hello, world!\", \"Python is great.\", \"This is a file-writing example.\"]\n",
    "filename = \"output.txt\"\n",
    "write_list_to_file(filename, lines)\n"
   ]
  },
  {
   "cell_type": "code",
   "execution_count": 105,
   "id": "c0e55932-8834-4f3c-a27a-6471e2ed2480",
   "metadata": {},
   "outputs": [
    {
     "name": "stdin",
     "output_type": "stream",
     "text": [
      "Enter numerator:  10\n",
      "Enter denominator:  0\n"
     ]
    },
    {
     "name": "stdout",
     "output_type": "stream",
     "text": [
      "Cannot divide by zero.\n"
     ]
    }
   ],
   "source": [
    "\n",
    "try:\n",
    "    a = float(input(\"Enter numerator: \"))\n",
    "    b = float(input(\"Enter denominator: \"))\n",
    "    print(\"Result:\", a / b)\n",
    "except ZeroDivisionError:\n",
    "    print(\"Cannot divide by zero.\")\n",
    "except ValueError:\n",
    "    print(\"Invalid input. Enter numbers only.\")\n"
   ]
  },
  {
   "cell_type": "code",
   "execution_count": 106,
   "id": "180fdf71-a5c7-410e-8ec6-5cdc182e0e8b",
   "metadata": {},
   "outputs": [
    {
     "name": "stdin",
     "output_type": "stream",
     "text": [
      "Enter the first number:  6\n",
      "Enter the second number:  8\n"
     ]
    },
    {
     "name": "stdout",
     "output_type": "stream",
     "text": [
      "Result: 0.75\n"
     ]
    }
   ],
   "source": [
    "#Handle invalid user input (e.g., entering a string when a number is expected).\n",
    "while True:\n",
    "    try:\n",
    "        num1 = float(input(\"Enter the first number: \"))\n",
    "        num2 = float(input(\"Enter the second number: \"))\n",
    "        result = num1 / num2\n",
    "        print(\"Result:\", result)\n",
    "        break  # exit loop if successful\n",
    "    except ValueError:\n",
    "        print(\"Invalid input! Please enter numeric values.\")\n",
    "    except ZeroDivisionError:\n",
    "        print(\"Cannot divide by zero. Try again.\")\n"
   ]
  },
  {
   "cell_type": "code",
   "execution_count": 107,
   "id": "794a1a98-497f-4f8a-95ef-e155dea77dd5",
   "metadata": {},
   "outputs": [
    {
     "name": "stdin",
     "output_type": "stream",
     "text": [
      "Enter the filename:  missing.txt\n"
     ]
    },
    {
     "name": "stdout",
     "output_type": "stream",
     "text": [
      "Error: The file 'missing.txt' does not exist.\n"
     ]
    }
   ],
   "source": [
    "#Try to open a file that doesn’t exist and handle the FileNotFoundError\n",
    "filename = input(\"Enter the filename: \")\n",
    "\n",
    "try:\n",
    "    with open(filename, 'r') as file:\n",
    "        content = file.read()\n",
    "        print(content)\n",
    "except FileNotFoundError:\n",
    "    print(f\"Error: The file '{filename}' does not exist.\")\n",
    "\n"
   ]
  },
  {
   "cell_type": "code",
   "execution_count": 108,
   "id": "d7ca0726-0896-4a95-8b7a-34d33eb4d371",
   "metadata": {},
   "outputs": [
    {
     "name": "stdin",
     "output_type": "stream",
     "text": [
      "Enter a number:  2\n"
     ]
    },
    {
     "name": "stdout",
     "output_type": "stream",
     "text": [
      "Result: 5.0\n",
      "This block always runs — whether there's an error or not.\n"
     ]
    }
   ],
   "source": [
    "#Use a try-except-finally block to demonstrate the execution of the finally clause.\n",
    "try:\n",
    "    num = int(input(\"Enter a number: \"))\n",
    "    result = 10 / num\n",
    "    print(\"Result:\", result)\n",
    "except ZeroDivisionError:\n",
    "    print(\"You can't divide by zero!\")\n",
    "except ValueError:\n",
    "    print(\"Invalid input! Please enter a number.\")\n",
    "finally:\n",
    "    print(\"This block always runs — whether there's an error or not.\")\n"
   ]
  }
 ],
 "metadata": {
  "kernelspec": {
   "display_name": "Python 3 (ipykernel)",
   "language": "python",
   "name": "python3"
  },
  "language_info": {
   "codemirror_mode": {
    "name": "ipython",
    "version": 3
   },
   "file_extension": ".py",
   "mimetype": "text/x-python",
   "name": "python",
   "nbconvert_exporter": "python",
   "pygments_lexer": "ipython3",
   "version": "3.12.7"
  }
 },
 "nbformat": 4,
 "nbformat_minor": 5
}
